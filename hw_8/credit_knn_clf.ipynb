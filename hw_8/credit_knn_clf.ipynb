{
 "cells": [
  {
   "cell_type": "code",
   "execution_count": 36,
   "metadata": {},
   "outputs": [],
   "source": [
    "import pandas as pd\n",
    "import numpy as np\n",
    "import seaborn as sns\n",
    "import matplotlib.pyplot as plt\n",
    "from sklearn.neighbors import KNeighborsClassifier\n",
    "from sklearn.model_selection import train_test_split, cross_val_score\n",
    "from sklearn.metrics import precision_score, recall_score\n",
    "from sklearn.preprocessing import MinMaxScaler\n",
    "from category_encoders.leave_one_out import LeaveOneOutEncoder\n",
    "pd.set_option('future.no_silent_downcasting', True)\n",
    "from sklearn.metrics import classification_report"
   ]
  },
  {
   "cell_type": "code",
   "execution_count": 37,
   "metadata": {},
   "outputs": [
    {
     "data": {
      "text/html": [
       "<div>\n",
       "<style scoped>\n",
       "    .dataframe tbody tr th:only-of-type {\n",
       "        vertical-align: middle;\n",
       "    }\n",
       "\n",
       "    .dataframe tbody tr th {\n",
       "        vertical-align: top;\n",
       "    }\n",
       "\n",
       "    .dataframe thead th {\n",
       "        text-align: right;\n",
       "    }\n",
       "</style>\n",
       "<table border=\"1\" class=\"dataframe\">\n",
       "  <thead>\n",
       "    <tr style=\"text-align: right;\">\n",
       "      <th></th>\n",
       "      <th>A1</th>\n",
       "      <th>A2</th>\n",
       "      <th>A3</th>\n",
       "      <th>A4</th>\n",
       "      <th>A6</th>\n",
       "      <th>A7</th>\n",
       "      <th>A8</th>\n",
       "      <th>A9</th>\n",
       "      <th>A10</th>\n",
       "      <th>A11</th>\n",
       "      <th>A12</th>\n",
       "      <th>A13</th>\n",
       "      <th>A14</th>\n",
       "      <th>A15</th>\n",
       "      <th>A16</th>\n",
       "    </tr>\n",
       "  </thead>\n",
       "  <tbody>\n",
       "    <tr>\n",
       "      <th>0</th>\n",
       "      <td>0.445434</td>\n",
       "      <td>30.83</td>\n",
       "      <td>0.000</td>\n",
       "      <td>0.497992</td>\n",
       "      <td>0.516129</td>\n",
       "      <td>0.426316</td>\n",
       "      <td>1.250</td>\n",
       "      <td>0.795977</td>\n",
       "      <td>0.706294</td>\n",
       "      <td>1</td>\n",
       "      <td>0.428571</td>\n",
       "      <td>0.467337</td>\n",
       "      <td>202.0</td>\n",
       "      <td>0</td>\n",
       "      <td>1</td>\n",
       "    </tr>\n",
       "    <tr>\n",
       "      <th>1</th>\n",
       "      <td>0.465347</td>\n",
       "      <td>58.67</td>\n",
       "      <td>4.460</td>\n",
       "      <td>0.497992</td>\n",
       "      <td>0.648649</td>\n",
       "      <td>0.632353</td>\n",
       "      <td>3.040</td>\n",
       "      <td>0.795977</td>\n",
       "      <td>0.706294</td>\n",
       "      <td>6</td>\n",
       "      <td>0.428571</td>\n",
       "      <td>0.467337</td>\n",
       "      <td>43.0</td>\n",
       "      <td>560</td>\n",
       "      <td>1</td>\n",
       "    </tr>\n",
       "    <tr>\n",
       "      <th>2</th>\n",
       "      <td>0.465347</td>\n",
       "      <td>24.50</td>\n",
       "      <td>0.500</td>\n",
       "      <td>0.497992</td>\n",
       "      <td>0.648649</td>\n",
       "      <td>0.632353</td>\n",
       "      <td>1.500</td>\n",
       "      <td>0.795977</td>\n",
       "      <td>0.252055</td>\n",
       "      <td>0</td>\n",
       "      <td>0.428571</td>\n",
       "      <td>0.467337</td>\n",
       "      <td>280.0</td>\n",
       "      <td>824</td>\n",
       "      <td>1</td>\n",
       "    </tr>\n",
       "    <tr>\n",
       "      <th>3</th>\n",
       "      <td>0.445434</td>\n",
       "      <td>27.83</td>\n",
       "      <td>1.540</td>\n",
       "      <td>0.497992</td>\n",
       "      <td>0.516129</td>\n",
       "      <td>0.426316</td>\n",
       "      <td>3.750</td>\n",
       "      <td>0.795977</td>\n",
       "      <td>0.706294</td>\n",
       "      <td>5</td>\n",
       "      <td>0.478405</td>\n",
       "      <td>0.467337</td>\n",
       "      <td>100.0</td>\n",
       "      <td>3</td>\n",
       "      <td>1</td>\n",
       "    </tr>\n",
       "    <tr>\n",
       "      <th>4</th>\n",
       "      <td>0.445434</td>\n",
       "      <td>20.17</td>\n",
       "      <td>5.625</td>\n",
       "      <td>0.497992</td>\n",
       "      <td>0.516129</td>\n",
       "      <td>0.426316</td>\n",
       "      <td>1.710</td>\n",
       "      <td>0.795977</td>\n",
       "      <td>0.252055</td>\n",
       "      <td>0</td>\n",
       "      <td>0.428571</td>\n",
       "      <td>0.269231</td>\n",
       "      <td>120.0</td>\n",
       "      <td>0</td>\n",
       "      <td>1</td>\n",
       "    </tr>\n",
       "    <tr>\n",
       "      <th>5</th>\n",
       "      <td>0.445434</td>\n",
       "      <td>32.08</td>\n",
       "      <td>4.000</td>\n",
       "      <td>0.497992</td>\n",
       "      <td>0.405405</td>\n",
       "      <td>0.426316</td>\n",
       "      <td>2.500</td>\n",
       "      <td>0.795977</td>\n",
       "      <td>0.252055</td>\n",
       "      <td>0</td>\n",
       "      <td>0.478405</td>\n",
       "      <td>0.467337</td>\n",
       "      <td>360.0</td>\n",
       "      <td>0</td>\n",
       "      <td>1</td>\n",
       "    </tr>\n",
       "    <tr>\n",
       "      <th>6</th>\n",
       "      <td>0.445434</td>\n",
       "      <td>33.17</td>\n",
       "      <td>1.040</td>\n",
       "      <td>0.497992</td>\n",
       "      <td>0.500000</td>\n",
       "      <td>0.632353</td>\n",
       "      <td>6.500</td>\n",
       "      <td>0.795977</td>\n",
       "      <td>0.252055</td>\n",
       "      <td>0</td>\n",
       "      <td>0.478405</td>\n",
       "      <td>0.467337</td>\n",
       "      <td>164.0</td>\n",
       "      <td>31285</td>\n",
       "      <td>1</td>\n",
       "    </tr>\n",
       "    <tr>\n",
       "      <th>7</th>\n",
       "      <td>0.465347</td>\n",
       "      <td>22.92</td>\n",
       "      <td>11.585</td>\n",
       "      <td>0.497992</td>\n",
       "      <td>0.717949</td>\n",
       "      <td>0.426316</td>\n",
       "      <td>0.040</td>\n",
       "      <td>0.795977</td>\n",
       "      <td>0.252055</td>\n",
       "      <td>0</td>\n",
       "      <td>0.428571</td>\n",
       "      <td>0.467337</td>\n",
       "      <td>80.0</td>\n",
       "      <td>1349</td>\n",
       "      <td>1</td>\n",
       "    </tr>\n",
       "    <tr>\n",
       "      <th>8</th>\n",
       "      <td>0.445434</td>\n",
       "      <td>54.42</td>\n",
       "      <td>0.500</td>\n",
       "      <td>0.291391</td>\n",
       "      <td>0.255319</td>\n",
       "      <td>0.632353</td>\n",
       "      <td>3.960</td>\n",
       "      <td>0.795977</td>\n",
       "      <td>0.252055</td>\n",
       "      <td>0</td>\n",
       "      <td>0.428571</td>\n",
       "      <td>0.467337</td>\n",
       "      <td>180.0</td>\n",
       "      <td>314</td>\n",
       "      <td>1</td>\n",
       "    </tr>\n",
       "    <tr>\n",
       "      <th>9</th>\n",
       "      <td>0.445434</td>\n",
       "      <td>42.50</td>\n",
       "      <td>4.915</td>\n",
       "      <td>0.291391</td>\n",
       "      <td>0.516129</td>\n",
       "      <td>0.426316</td>\n",
       "      <td>3.165</td>\n",
       "      <td>0.795977</td>\n",
       "      <td>0.252055</td>\n",
       "      <td>0</td>\n",
       "      <td>0.478405</td>\n",
       "      <td>0.467337</td>\n",
       "      <td>52.0</td>\n",
       "      <td>1442</td>\n",
       "      <td>1</td>\n",
       "    </tr>\n",
       "  </tbody>\n",
       "</table>\n",
       "</div>"
      ],
      "text/plain": [
       "         A1     A2      A3        A4        A6        A7     A8        A9  \\\n",
       "0  0.445434  30.83   0.000  0.497992  0.516129  0.426316  1.250  0.795977   \n",
       "1  0.465347  58.67   4.460  0.497992  0.648649  0.632353  3.040  0.795977   \n",
       "2  0.465347  24.50   0.500  0.497992  0.648649  0.632353  1.500  0.795977   \n",
       "3  0.445434  27.83   1.540  0.497992  0.516129  0.426316  3.750  0.795977   \n",
       "4  0.445434  20.17   5.625  0.497992  0.516129  0.426316  1.710  0.795977   \n",
       "5  0.445434  32.08   4.000  0.497992  0.405405  0.426316  2.500  0.795977   \n",
       "6  0.445434  33.17   1.040  0.497992  0.500000  0.632353  6.500  0.795977   \n",
       "7  0.465347  22.92  11.585  0.497992  0.717949  0.426316  0.040  0.795977   \n",
       "8  0.445434  54.42   0.500  0.291391  0.255319  0.632353  3.960  0.795977   \n",
       "9  0.445434  42.50   4.915  0.291391  0.516129  0.426316  3.165  0.795977   \n",
       "\n",
       "        A10  A11       A12       A13    A14    A15  A16  \n",
       "0  0.706294    1  0.428571  0.467337  202.0      0    1  \n",
       "1  0.706294    6  0.428571  0.467337   43.0    560    1  \n",
       "2  0.252055    0  0.428571  0.467337  280.0    824    1  \n",
       "3  0.706294    5  0.478405  0.467337  100.0      3    1  \n",
       "4  0.252055    0  0.428571  0.269231  120.0      0    1  \n",
       "5  0.252055    0  0.478405  0.467337  360.0      0    1  \n",
       "6  0.252055    0  0.478405  0.467337  164.0  31285    1  \n",
       "7  0.252055    0  0.428571  0.467337   80.0   1349    1  \n",
       "8  0.252055    0  0.428571  0.467337  180.0    314    1  \n",
       "9  0.252055    0  0.478405  0.467337   52.0   1442    1  "
      ]
     },
     "execution_count": 37,
     "metadata": {},
     "output_type": "execute_result"
    }
   ],
   "source": [
    "data = pd.read_csv('crx.data', names=['A1', 'A2', 'A3', 'A4', 'A5', 'A6', 'A7', 'A8', 'A9', 'A10', 'A11', 'A12', 'A13', 'A14', 'A15', 'A16'], delimiter=',', na_values='?')\n",
    "data = data.dropna()\n",
    "data['A16'] = data['A16'].replace('+', 1)\n",
    "data['A16'] = data['A16'].replace('-', 0)\n",
    "data['A16'] = data['A16'].astype('int8')\n",
    "enc = LeaveOneOutEncoder(cols=data[['A1', 'A4', 'A5', 'A6', 'A7', 'A9', 'A10', 'A12', 'A13']])\n",
    "data = enc.fit_transform(data, data['A16'])\n",
    "data = data.drop(columns='A5')\n",
    "data.head(10)"
   ]
  },
  {
   "cell_type": "code",
   "execution_count": 38,
   "metadata": {},
   "outputs": [],
   "source": [
    "scaler = MinMaxScaler()\n",
    "data_sc = scaler.fit_transform(data.drop(columns=['A16']))\n",
    "X_train, X_test, y_train, y_test = train_test_split(data_sc, data.A16, train_size=.66, random_state=17, shuffle=True)"
   ]
  },
  {
   "cell_type": "code",
   "execution_count": 39,
   "metadata": {},
   "outputs": [
    {
     "name": "stdout",
     "output_type": "stream",
     "text": [
      "Cross-Validation Scores: [0.80555556 0.82407407 0.85046729 0.90654206]\n"
     ]
    }
   ],
   "source": [
    "knn_cl = KNeighborsClassifier(n_neighbors=5)\n",
    "cv_sc = cross_val_score(knn_cl, X_train, y_train, cv=4)\n",
    "print(f\"Cross-Validation Scores: {cv_sc}\")"
   ]
  },
  {
   "cell_type": "code",
   "execution_count": 40,
   "metadata": {},
   "outputs": [
    {
     "name": "stdout",
     "output_type": "stream",
     "text": [
      "Train Score: 0.8976744186046511\n",
      "Test Score: 0.8923766816143498\n"
     ]
    }
   ],
   "source": [
    "knn_cl.fit(X_train, y_train)\n",
    "\n",
    "print(f'Train Score: {knn_cl.score(X_train, y_train)}')\n",
    "print(f'Test Score: {knn_cl.score(X_test, y_test)}')"
   ]
  },
  {
   "cell_type": "code",
   "execution_count": 42,
   "metadata": {},
   "outputs": [
    {
     "name": "stdout",
     "output_type": "stream",
     "text": [
      "              precision    recall  f1-score   support\n",
      "\n",
      "     class_0       0.91      0.89      0.90       118\n",
      "     class_1       0.88      0.90      0.89       105\n",
      "\n",
      "    accuracy                           0.89       223\n",
      "   macro avg       0.89      0.89      0.89       223\n",
      "weighted avg       0.89      0.89      0.89       223\n",
      "\n"
     ]
    }
   ],
   "source": [
    "y_pred = knn_cl.predict(X_test)\n",
    "print(classification_report(y_test, y_pred, target_names=[f'class_{i}' for i in range(2)]))"
   ]
  },
  {
   "cell_type": "code",
   "execution_count": 43,
   "metadata": {},
   "outputs": [
    {
     "data": {
      "text/plain": [
       "<matplotlib.legend.Legend at 0x2003fb17650>"
      ]
     },
     "execution_count": 43,
     "metadata": {},
     "output_type": "execute_result"
    },
    {
     "data": {
      "image/png": "[encoded data removed]",
      "text/plain": [
       "<Figure size 640x480 with 1 Axes>"
      ]
     },
     "metadata": {},
     "output_type": "display_data"
    }
   ],
   "source": [
    "sns.kdeplot(y_test, fill=True, label='real')\n",
    "sns.kdeplot(knn_cl.predict(X_test), fill=True, label='pred')\n",
    "plt.legend()"
   ]
  },
  {
   "cell_type": "markdown",
   "metadata": {},
   "source": [
    "**Модель має схожі результати з логістичною регресією, теж гірше за дерево.**"
   ]
  }
 ],
 "metadata": {
  "kernelspec": {
   "display_name": "Python 3",
   "language": "python",
   "name": "python3"
  },
  "language_info": {
   "codemirror_mode": {
    "name": "ipython",
    "version": 3
   },
   "file_extension": ".py",
   "mimetype": "text/x-python",
   "name": "python",
   "nbconvert_exporter": "python",
   "pygments_lexer": "ipython3",
   "version": "3.12.4"
  }
 },
 "nbformat": 4,
 "nbformat_minor": 2
}
